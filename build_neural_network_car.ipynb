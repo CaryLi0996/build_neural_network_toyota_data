{
 "cells": [
  {
   "cell_type": "code",
   "execution_count": null,
   "metadata": {
    "colab": {
     "base_uri": "https://localhost:8080/"
    },
    "id": "iv7A2dU2fPHn",
    "outputId": "21690542-8cab-42da-a4dc-cf86763293e4"
   },
   "outputs": [
    {
     "name": "stdout",
     "output_type": "stream",
     "text": [
      "Requirement already satisfied: dmba in /usr/local/lib/python3.7/dist-packages (0.0.18)\n",
      "no display found. Using non-interactive Agg backend\n"
     ]
    }
   ],
   "source": [
    "# Import libraries and packages\n",
    "\n",
    "from pathlib import Path\n",
    "import pandas as pd\n",
    "from sklearn.model_selection import train_test_split\n",
    "from sklearn.neural_network import MLPClassifier\n",
    "from sklearn.neural_network import MLPRegressor\n",
    "from sklearn.preprocessing import MinMaxScaler\n",
    "from sklearn.metrics import mean_squared_error\n",
    "from sklearn.metrics import r2_score\n",
    "from sklearn.metrics import mean_squared_log_error\n",
    "import numpy as np\n",
    "\n",
    "!pip install dmba\n",
    "from dmba import classificationSummary\n",
    "from dmba import regressionSummary\n",
    "import pydotplus\n",
    "from IPython.display import Image\n",
    "import numbers\n",
    "from matplotlib import pyplot as plt\n",
    "%matplotlib inline"
   ]
  },
  {
   "cell_type": "code",
   "execution_count": null,
   "metadata": {
    "id": "hIUII9IKfVys"
   },
   "outputs": [],
   "source": [
    "# Import dataset\n",
    "\n",
    "df = pd.read_csv('ToyotaCorolla.csv')"
   ]
  },
  {
   "cell_type": "code",
   "execution_count": null,
   "metadata": {
    "id": "iwFx_p3HjENw"
   },
   "outputs": [],
   "source": [
    "# Only keep the important variables\n",
    "\n",
    "predictors = ['Age_08_04', 'KM', 'Fuel_Type', 'HP', 'Automatic', 'Doors', 'Quarterly_Tax', 'Mfr_Guarantee', 'Guarantee_Period', 'Airco', 'Automatic_airco', 'CD_Player', 'Powered_Windows', 'Sport_Model','Tow_Bar', 'Price']"
   ]
  },
  {
   "cell_type": "code",
   "execution_count": null,
   "metadata": {
    "id": "I0S2nVXnyogT"
   },
   "outputs": [],
   "source": [
    "# Converts categorical data into dummy or indicator variables\n",
    "\n",
    "pred_processed = pd.get_dummies(df[predictors], drop_first=True)"
   ]
  },
  {
   "cell_type": "code",
   "execution_count": null,
   "metadata": {
    "colab": {
     "base_uri": "https://localhost:8080/",
     "height": 318
    },
    "id": "yxl3MpUdgOZ4",
    "outputId": "afcfcd06-d7b5-4074-83ef-31fbb1087567"
   },
   "outputs": [
    {
     "name": "stdout",
     "output_type": "stream",
     "text": [
      "[[0.27848101 0.19335471 0.17073171 ... 0.3250444  1.         0.        ]\n",
      " [0.27848101 0.30014938 0.17073171 ... 0.3339254  1.         0.        ]\n",
      " [0.29113924 0.1716468  0.17073171 ... 0.3410302  1.         0.        ]\n",
      " ...\n",
      " [0.88607595 0.07002086 0.13821138 ... 0.14742451 0.         1.        ]\n",
      " [0.87341772 0.06960934 0.13821138 ... 0.10301954 0.         1.        ]\n",
      " [0.94936709 0.         0.33333333 ... 0.09236234 0.         1.        ]]\n"
     ]
    },
    {
     "data": {
      "text/html": [
       "<div>\n",
       "<style scoped>\n",
       "    .dataframe tbody tr th:only-of-type {\n",
       "        vertical-align: middle;\n",
       "    }\n",
       "\n",
       "    .dataframe tbody tr th {\n",
       "        vertical-align: top;\n",
       "    }\n",
       "\n",
       "    .dataframe thead th {\n",
       "        text-align: right;\n",
       "    }\n",
       "</style>\n",
       "<table border=\"1\" class=\"dataframe\">\n",
       "  <thead>\n",
       "    <tr style=\"text-align: right;\">\n",
       "      <th></th>\n",
       "      <th>Age_08_04</th>\n",
       "      <th>KM</th>\n",
       "      <th>HP</th>\n",
       "      <th>Automatic</th>\n",
       "      <th>Doors</th>\n",
       "      <th>Quarterly_Tax</th>\n",
       "      <th>Mfr_Guarantee</th>\n",
       "      <th>Guarantee_Period</th>\n",
       "      <th>Airco</th>\n",
       "      <th>Automatic_airco</th>\n",
       "      <th>CD_Player</th>\n",
       "      <th>Powered_Windows</th>\n",
       "      <th>Sport_Model</th>\n",
       "      <th>Tow_Bar</th>\n",
       "      <th>Price</th>\n",
       "      <th>Fuel_Type_Diesel</th>\n",
       "      <th>Fuel_Type_Petrol</th>\n",
       "    </tr>\n",
       "  </thead>\n",
       "  <tbody>\n",
       "    <tr>\n",
       "      <th>0</th>\n",
       "      <td>0.278481</td>\n",
       "      <td>0.193355</td>\n",
       "      <td>0.170732</td>\n",
       "      <td>0.0</td>\n",
       "      <td>0.333333</td>\n",
       "      <td>0.723485</td>\n",
       "      <td>0.0</td>\n",
       "      <td>0.0</td>\n",
       "      <td>0.0</td>\n",
       "      <td>0.0</td>\n",
       "      <td>0.0</td>\n",
       "      <td>1.0</td>\n",
       "      <td>0.0</td>\n",
       "      <td>0.0</td>\n",
       "      <td>0.325044</td>\n",
       "      <td>1.0</td>\n",
       "      <td>0.0</td>\n",
       "    </tr>\n",
       "    <tr>\n",
       "      <th>1</th>\n",
       "      <td>0.278481</td>\n",
       "      <td>0.300149</td>\n",
       "      <td>0.170732</td>\n",
       "      <td>0.0</td>\n",
       "      <td>0.333333</td>\n",
       "      <td>0.723485</td>\n",
       "      <td>0.0</td>\n",
       "      <td>0.0</td>\n",
       "      <td>1.0</td>\n",
       "      <td>0.0</td>\n",
       "      <td>1.0</td>\n",
       "      <td>0.0</td>\n",
       "      <td>0.0</td>\n",
       "      <td>0.0</td>\n",
       "      <td>0.333925</td>\n",
       "      <td>1.0</td>\n",
       "      <td>0.0</td>\n",
       "    </tr>\n",
       "    <tr>\n",
       "      <th>2</th>\n",
       "      <td>0.291139</td>\n",
       "      <td>0.171647</td>\n",
       "      <td>0.170732</td>\n",
       "      <td>0.0</td>\n",
       "      <td>0.333333</td>\n",
       "      <td>0.723485</td>\n",
       "      <td>1.0</td>\n",
       "      <td>0.0</td>\n",
       "      <td>0.0</td>\n",
       "      <td>0.0</td>\n",
       "      <td>0.0</td>\n",
       "      <td>0.0</td>\n",
       "      <td>0.0</td>\n",
       "      <td>0.0</td>\n",
       "      <td>0.341030</td>\n",
       "      <td>1.0</td>\n",
       "      <td>0.0</td>\n",
       "    </tr>\n",
       "    <tr>\n",
       "      <th>3</th>\n",
       "      <td>0.316456</td>\n",
       "      <td>0.197528</td>\n",
       "      <td>0.170732</td>\n",
       "      <td>0.0</td>\n",
       "      <td>0.333333</td>\n",
       "      <td>0.723485</td>\n",
       "      <td>1.0</td>\n",
       "      <td>0.0</td>\n",
       "      <td>0.0</td>\n",
       "      <td>0.0</td>\n",
       "      <td>0.0</td>\n",
       "      <td>0.0</td>\n",
       "      <td>0.0</td>\n",
       "      <td>0.0</td>\n",
       "      <td>0.376554</td>\n",
       "      <td>1.0</td>\n",
       "      <td>0.0</td>\n",
       "    </tr>\n",
       "    <tr>\n",
       "      <th>4</th>\n",
       "      <td>0.367089</td>\n",
       "      <td>0.158433</td>\n",
       "      <td>0.170732</td>\n",
       "      <td>0.0</td>\n",
       "      <td>0.333333</td>\n",
       "      <td>0.723485</td>\n",
       "      <td>1.0</td>\n",
       "      <td>0.0</td>\n",
       "      <td>1.0</td>\n",
       "      <td>0.0</td>\n",
       "      <td>0.0</td>\n",
       "      <td>1.0</td>\n",
       "      <td>0.0</td>\n",
       "      <td>0.0</td>\n",
       "      <td>0.333925</td>\n",
       "      <td>1.0</td>\n",
       "      <td>0.0</td>\n",
       "    </tr>\n",
       "  </tbody>\n",
       "</table>\n",
       "</div>"
      ],
      "text/plain": [
       "   Age_08_04        KM        HP  ...     Price  Fuel_Type_Diesel  Fuel_Type_Petrol\n",
       "0   0.278481  0.193355  0.170732  ...  0.325044               1.0               0.0\n",
       "1   0.278481  0.300149  0.170732  ...  0.333925               1.0               0.0\n",
       "2   0.291139  0.171647  0.170732  ...  0.341030               1.0               0.0\n",
       "3   0.316456  0.197528  0.170732  ...  0.376554               1.0               0.0\n",
       "4   0.367089  0.158433  0.170732  ...  0.333925               1.0               0.0\n",
       "\n",
       "[5 rows x 17 columns]"
      ]
     },
     "execution_count": 5,
     "metadata": {
      "tags": []
     },
     "output_type": "execute_result"
    }
   ],
   "source": [
    "# Use transformer to scale the data to the range [0,1]\n",
    "scaler = MinMaxScaler()\n",
    "\n",
    "scaled_data = scaler.fit_transform(pred_processed)\n",
    "print(scaled_data)\n",
    "scaled_data = pd.DataFrame(scaled_data, columns = pred_processed.columns)\n",
    "scaled_data.head()"
   ]
  },
  {
   "cell_type": "code",
   "execution_count": null,
   "metadata": {
    "colab": {
     "base_uri": "https://localhost:8080/"
    },
    "id": "iiQ5v5XNx4Rz",
    "outputId": "6c819f66-1797-4317-f9e5-cd4846c36270"
   },
   "outputs": [
    {
     "name": "stdout",
     "output_type": "stream",
     "text": [
      "Train_X   : (861, 16)\n",
      "Valid_X : (575, 16)\n",
      "Train_y   : (861,)\n",
      "Valid_y : (575,)\n"
     ]
    }
   ],
   "source": [
    "outcome = 'Price'\n",
    "predictors = [c for c in pred_processed.columns if c != outcome]\n",
    "\n",
    "# partition data\n",
    "X = scaled_data[predictors]\n",
    "y = scaled_data[outcome]\n",
    "\n",
    "train_X, valid_X, train_y, valid_y = train_test_split(X, y, test_size=0.4, random_state=1)\n",
    "print('Train_X   :', train_X.shape)\n",
    "print('Valid_X :', valid_X.shape)\n",
    "print('Train_y   :', train_y.shape)\n",
    "print('Valid_y :', valid_y.shape)"
   ]
  },
  {
   "cell_type": "code",
   "execution_count": null,
   "metadata": {
    "id": "P9eYB15CFdKa"
   },
   "outputs": [],
   "source": [
    "def RMS(clf):\n",
    "  clf.fit(train_X, train_y)\n",
    "  # training performance \n",
    "  trainPrediction = clf.predict(train_X)\n",
    "  rms_train = mean_squared_error(train_y, trainPrediction, squared=False)\n",
    "  print(\"RMS for training: \", rms_train)\n",
    "  print(\"r2 score:\", (r2_score(train_y, trainPrediction))*100)\n",
    "\n",
    "\n",
    "  # validation performance\n",
    "  validPrediction = clf.predict(valid_X)\n",
    "  rms_valid = mean_squared_error(valid_y, validPrediction, squared=False)\n",
    "  print(\"RMS for validation: \",rms_valid)\n",
    "  print(\"r2 score:\", (r2_score(valid_y, validPrediction))*100)"
   ]
  },
  {
   "cell_type": "code",
   "execution_count": null,
   "metadata": {
    "colab": {
     "base_uri": "https://localhost:8080/"
    },
    "id": "eRO3kX_PUtyf",
    "outputId": "8eec5850-82e1-4fd8-893d-2319a0155a55"
   },
   "outputs": [
    {
     "name": "stdout",
     "output_type": "stream",
     "text": [
      "RMS for training:  0.039504573010147336\n",
      "r2 score: 90.99775449837699\n",
      "RMS for validation:  0.03833282815047873\n",
      "r2 score: 90.4970113958388\n"
     ]
    }
   ],
   "source": [
    "# Neural network model 1: single hidden layer with two nodes\n",
    "\n",
    "clf1 = MLPRegressor(hidden_layer_sizes=(2), activation='logistic', solver='lbfgs',\n",
    "                    random_state=1)\n",
    "\n",
    "clf1.fit(train_X, train_y)\n",
    "\n",
    "# RMS error for the training and validation data\n",
    "RMS(clf1)"
   ]
  },
  {
   "cell_type": "code",
   "execution_count": null,
   "metadata": {
    "colab": {
     "base_uri": "https://localhost:8080/"
    },
    "id": "geMfZD36TMeC",
    "outputId": "2dfc2d98-77fb-4da9-cd72-2479a985a0a0"
   },
   "outputs": [
    {
     "name": "stdout",
     "output_type": "stream",
     "text": [
      "RMS for training:  0.03986695013430701\n",
      "r2 score: 90.83184104727083\n",
      "RMS for validation:  0.03926157199859368\n",
      "r2 score: 90.03094819412263\n"
     ]
    }
   ],
   "source": [
    "# Neural network model 2: single hidden layer with five nodes\n",
    "clf2 = MLPRegressor(hidden_layer_sizes=(5), activation='logistic', solver='lbfgs',\n",
    "                    random_state=1)\n",
    "\n",
    "clf2.fit(train_X, train_y)\n",
    "\n",
    "# RMS error for the training and validation data\n",
    "RMS(clf2)"
   ]
  },
  {
   "cell_type": "code",
   "execution_count": null,
   "metadata": {
    "colab": {
     "base_uri": "https://localhost:8080/"
    },
    "id": "ovaYpXanU9UH",
    "outputId": "a34969a9-fbe1-406e-ddaf-d87a0d2ffd20"
   },
   "outputs": [
    {
     "name": "stdout",
     "output_type": "stream",
     "text": [
      "RMS for training:  0.039857718570233694\n",
      "r2 score: 90.83608650107865\n",
      "RMS for validation:  0.039756564475811426\n",
      "r2 score: 89.77799284591535\n"
     ]
    }
   ],
   "source": [
    "# Neural network model 3: two layers, five nodes in each layer\n",
    "clf3 = MLPRegressor(hidden_layer_sizes=(5,5), activation='logistic', solver='lbfgs',\n",
    "                    random_state=1)\n",
    "\n",
    "clf3.fit(train_X, train_y)\n",
    "\n",
    "# RMS error for the training and validation data\n",
    "RMS(clf3)"
   ]
  },
  {
   "cell_type": "markdown",
   "metadata": {},
   "source": [
    "### Semi-Conclusion: \n",
    "\n",
    "The RMS error for the training and validation data both increase as the number of layers and nodes increase, we can say this is because the model is overfitting the training data."
   ]
  },
  {
   "cell_type": "code",
   "execution_count": null,
   "metadata": {
    "colab": {
     "base_uri": "https://localhost:8080/"
    },
    "id": "pBFX3obRZF8L",
    "outputId": "98c95c77-f36b-4fac-e415-4f1f24714bc2"
   },
   "outputs": [
    {
     "name": "stdout",
     "output_type": "stream",
     "text": [
      "Initial score:  0.8968011620822883\n",
      "Initial parameters:  {'hidden_layer_sizes': 5}\n"
     ]
    }
   ],
   "source": [
    "# Use GridSearchCV for hyperparameter tuning \n",
    "from sklearn.model_selection import cross_val_score, train_test_split, GridSearchCV\n",
    "\n",
    "# Train neural network with 2 hidden nodes\n",
    "clf = MLPRegressor(hidden_layer_sizes=(5), activation='logistic', solver='lbfgs',\n",
    "                    random_state=1)\n",
    "clf.fit(train_X, train_y)\n",
    "\n",
    "param_grid = {\n",
    "    'hidden_layer_sizes': [(2), (5), (5,5)], \n",
    "}\n",
    "\n",
    "# apply grid search\n",
    "gridSearch = GridSearchCV(MLPRegressor(activation='logistic', solver='lbfgs', random_state=1), \n",
    "                          param_grid, cv=5, n_jobs=-1, return_train_score=True)\n",
    "gridSearch.fit(train_X, train_y)\n",
    "print('Initial score: ', gridSearch.best_score_)\n",
    "print('Initial parameters: ', gridSearch.best_params_)"
   ]
  },
  {
   "cell_type": "code",
   "execution_count": null,
   "metadata": {
    "colab": {
     "base_uri": "https://localhost:8080/"
    },
    "id": "uol0hn4jW3Mg",
    "outputId": "678cb81b-a2e3-4d28-82f9-e9ce385029db"
   },
   "outputs": [
    {
     "name": "stdout",
     "output_type": "stream",
     "text": [
      "  param_hidden_layer_sizes  mean_test_score  std_test_score\n",
      "0                        2         0.896082        0.009678\n",
      "1                        5         0.896801        0.004626\n",
      "2                   (5, 5)         0.896265        0.009892\n"
     ]
    }
   ],
   "source": [
    "# GridSearch CV to find the appropriate number of layers and nodes:\n",
    "\n",
    "display=['param_hidden_layer_sizes', 'mean_test_score', 'std_test_score']\n",
    "print(pd.DataFrame(gridSearch.cv_results_)[display])"
   ]
  },
  {
   "cell_type": "code",
   "execution_count": null,
   "metadata": {
    "colab": {
     "base_uri": "https://localhost:8080/",
     "height": 280
    },
    "id": "svyjm5OSFIR_",
    "outputId": "da215d69-519f-4f49-e68b-9537fa933a4b"
   },
   "outputs": [
    {
     "data": {
      "image/png": "[encoded data removed]",
      "text/plain": [
       "<Figure size 432x288 with 1 Axes>"
      ]
     },
     "metadata": {
      "needs_background": "light",
      "tags": []
     },
     "output_type": "display_data"
    }
   ],
   "source": [
    "pd.DataFrame(gridSearch.cv_results_)[display].plot(x='param_hidden_layer_sizes', \n",
    "                                                   y='mean_test_score', yerr='std_test_score')\n",
    "\n",
    "plt.show()"
   ]
  },
  {
   "cell_type": "markdown",
   "metadata": {},
   "source": [
    "### Summary:\n",
    "\n",
    "Based on the hyperparameter tuning using GridSearchCV, 1 layer and 5 nodes performs the best since it has \n",
    "\n",
    "* lower RMS error than (2 layers, 5 nodes) \n",
    "\n",
    "* higher mean_test_score than (1 layer, 2 nodes)."
   ]
  }
 ],
 "metadata": {
  "colab": {
   "collapsed_sections": [],
   "name": "MMAI5040_W21_Group5_Assignment2_CodeQ4.ipynb",
   "provenance": []
  },
  "kernelspec": {
   "display_name": "Python 3",
   "language": "python",
   "name": "python3"
  },
  "language_info": {
   "codemirror_mode": {
    "name": "ipython",
    "version": 3
   },
   "file_extension": ".py",
   "mimetype": "text/x-python",
   "name": "python",
   "nbconvert_exporter": "python",
   "pygments_lexer": "ipython3",
   "version": "3.8.5"
  }
 },
 "nbformat": 4,
 "nbformat_minor": 1
}
